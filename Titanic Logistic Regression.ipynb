{
 "cells": [
  {
   "cell_type": "code",
   "execution_count": 214,
   "id": "db611f25",
   "metadata": {},
   "outputs": [],
   "source": [
    "import numpy as np\n",
    "import pandas as pd\n",
    "import matplotlib.pyplot as plt\n",
    "import seaborn as sns\n",
    "from sklearn.model_selection import train_test_split\n",
    "from sklearn.preprocessing import MinMaxScaler\n",
    "from sklearn.linear_model import LogisticRegression\n",
    "from sklearn.metrics import classification_report,confusion_matrix,f1_score, accuracy_score,precision_score,recall_score,roc_curve,roc_auc_score"
   ]
  },
  {
   "cell_type": "code",
   "execution_count": 215,
   "id": "5776c45d",
   "metadata": {},
   "outputs": [],
   "source": [
    "train_df = pd.read_csv(r'E:\\INCEPTEZ\\Training\\Basics_python\\Titanic Predicitons_logistic_reg\\train.csv')\n",
    "test_df = pd.read_csv(r'E:\\INCEPTEZ\\Training\\Basics_python\\Titanic Predicitons_logistic_reg\\test.csv')\n",
    "submission = pd.read_csv(r'E:\\INCEPTEZ\\Training\\Basics_python\\Titanic Predicitons_logistic_reg\\gender_submission.csv')"
   ]
  },
  {
   "cell_type": "code",
   "execution_count": 216,
   "id": "9dabd726",
   "metadata": {},
   "outputs": [
    {
     "data": {
      "text/html": [
       "<div>\n",
       "<style scoped>\n",
       "    .dataframe tbody tr th:only-of-type {\n",
       "        vertical-align: middle;\n",
       "    }\n",
       "\n",
       "    .dataframe tbody tr th {\n",
       "        vertical-align: top;\n",
       "    }\n",
       "\n",
       "    .dataframe thead th {\n",
       "        text-align: right;\n",
       "    }\n",
       "</style>\n",
       "<table border=\"1\" class=\"dataframe\">\n",
       "  <thead>\n",
       "    <tr style=\"text-align: right;\">\n",
       "      <th></th>\n",
       "      <th>PassengerId</th>\n",
       "      <th>Survived</th>\n",
       "      <th>Pclass</th>\n",
       "      <th>Name</th>\n",
       "      <th>Sex</th>\n",
       "      <th>Age</th>\n",
       "      <th>SibSp</th>\n",
       "      <th>Parch</th>\n",
       "      <th>Ticket</th>\n",
       "      <th>Fare</th>\n",
       "      <th>Cabin</th>\n",
       "      <th>Embarked</th>\n",
       "    </tr>\n",
       "  </thead>\n",
       "  <tbody>\n",
       "    <tr>\n",
       "      <th>0</th>\n",
       "      <td>1</td>\n",
       "      <td>0</td>\n",
       "      <td>3</td>\n",
       "      <td>Braund, Mr. Owen Harris</td>\n",
       "      <td>male</td>\n",
       "      <td>22.0</td>\n",
       "      <td>1</td>\n",
       "      <td>0</td>\n",
       "      <td>A/5 21171</td>\n",
       "      <td>7.2500</td>\n",
       "      <td>NaN</td>\n",
       "      <td>S</td>\n",
       "    </tr>\n",
       "    <tr>\n",
       "      <th>1</th>\n",
       "      <td>2</td>\n",
       "      <td>1</td>\n",
       "      <td>1</td>\n",
       "      <td>Cumings, Mrs. John Bradley (Florence Briggs Th...</td>\n",
       "      <td>female</td>\n",
       "      <td>38.0</td>\n",
       "      <td>1</td>\n",
       "      <td>0</td>\n",
       "      <td>PC 17599</td>\n",
       "      <td>71.2833</td>\n",
       "      <td>C85</td>\n",
       "      <td>C</td>\n",
       "    </tr>\n",
       "    <tr>\n",
       "      <th>2</th>\n",
       "      <td>3</td>\n",
       "      <td>1</td>\n",
       "      <td>3</td>\n",
       "      <td>Heikkinen, Miss. Laina</td>\n",
       "      <td>female</td>\n",
       "      <td>26.0</td>\n",
       "      <td>0</td>\n",
       "      <td>0</td>\n",
       "      <td>STON/O2. 3101282</td>\n",
       "      <td>7.9250</td>\n",
       "      <td>NaN</td>\n",
       "      <td>S</td>\n",
       "    </tr>\n",
       "    <tr>\n",
       "      <th>3</th>\n",
       "      <td>4</td>\n",
       "      <td>1</td>\n",
       "      <td>1</td>\n",
       "      <td>Futrelle, Mrs. Jacques Heath (Lily May Peel)</td>\n",
       "      <td>female</td>\n",
       "      <td>35.0</td>\n",
       "      <td>1</td>\n",
       "      <td>0</td>\n",
       "      <td>113803</td>\n",
       "      <td>53.1000</td>\n",
       "      <td>C123</td>\n",
       "      <td>S</td>\n",
       "    </tr>\n",
       "    <tr>\n",
       "      <th>4</th>\n",
       "      <td>5</td>\n",
       "      <td>0</td>\n",
       "      <td>3</td>\n",
       "      <td>Allen, Mr. William Henry</td>\n",
       "      <td>male</td>\n",
       "      <td>35.0</td>\n",
       "      <td>0</td>\n",
       "      <td>0</td>\n",
       "      <td>373450</td>\n",
       "      <td>8.0500</td>\n",
       "      <td>NaN</td>\n",
       "      <td>S</td>\n",
       "    </tr>\n",
       "  </tbody>\n",
       "</table>\n",
       "</div>"
      ],
      "text/plain": [
       "   PassengerId  Survived  Pclass  \\\n",
       "0            1         0       3   \n",
       "1            2         1       1   \n",
       "2            3         1       3   \n",
       "3            4         1       1   \n",
       "4            5         0       3   \n",
       "\n",
       "                                                Name     Sex   Age  SibSp  \\\n",
       "0                            Braund, Mr. Owen Harris    male  22.0      1   \n",
       "1  Cumings, Mrs. John Bradley (Florence Briggs Th...  female  38.0      1   \n",
       "2                             Heikkinen, Miss. Laina  female  26.0      0   \n",
       "3       Futrelle, Mrs. Jacques Heath (Lily May Peel)  female  35.0      1   \n",
       "4                           Allen, Mr. William Henry    male  35.0      0   \n",
       "\n",
       "   Parch            Ticket     Fare Cabin Embarked  \n",
       "0      0         A/5 21171   7.2500   NaN        S  \n",
       "1      0          PC 17599  71.2833   C85        C  \n",
       "2      0  STON/O2. 3101282   7.9250   NaN        S  \n",
       "3      0            113803  53.1000  C123        S  \n",
       "4      0            373450   8.0500   NaN        S  "
      ]
     },
     "execution_count": 216,
     "metadata": {},
     "output_type": "execute_result"
    }
   ],
   "source": [
    "train_df.head()"
   ]
  },
  {
   "cell_type": "code",
   "execution_count": 217,
   "id": "85d275f0",
   "metadata": {},
   "outputs": [
    {
     "data": {
      "text/plain": [
       "((891, 12), (418, 11))"
      ]
     },
     "execution_count": 217,
     "metadata": {},
     "output_type": "execute_result"
    }
   ],
   "source": [
    "train_df.shape , test_df.shape"
   ]
  },
  {
   "cell_type": "code",
   "execution_count": 218,
   "id": "c9ec14aa",
   "metadata": {},
   "outputs": [
    {
     "name": "stdout",
     "output_type": "stream",
     "text": [
      "<class 'pandas.core.frame.DataFrame'>\n",
      "RangeIndex: 891 entries, 0 to 890\n",
      "Data columns (total 12 columns):\n",
      " #   Column       Non-Null Count  Dtype  \n",
      "---  ------       --------------  -----  \n",
      " 0   PassengerId  891 non-null    int64  \n",
      " 1   Survived     891 non-null    int64  \n",
      " 2   Pclass       891 non-null    int64  \n",
      " 3   Name         891 non-null    object \n",
      " 4   Sex          891 non-null    object \n",
      " 5   Age          714 non-null    float64\n",
      " 6   SibSp        891 non-null    int64  \n",
      " 7   Parch        891 non-null    int64  \n",
      " 8   Ticket       891 non-null    object \n",
      " 9   Fare         891 non-null    float64\n",
      " 10  Cabin        204 non-null    object \n",
      " 11  Embarked     889 non-null    object \n",
      "dtypes: float64(2), int64(5), object(5)\n",
      "memory usage: 83.7+ KB\n"
     ]
    }
   ],
   "source": [
    "train_df.info()"
   ]
  },
  {
   "cell_type": "code",
   "execution_count": 219,
   "id": "9675841b",
   "metadata": {},
   "outputs": [
    {
     "name": "stdout",
     "output_type": "stream",
     "text": [
      "<class 'pandas.core.frame.DataFrame'>\n",
      "RangeIndex: 418 entries, 0 to 417\n",
      "Data columns (total 11 columns):\n",
      " #   Column       Non-Null Count  Dtype  \n",
      "---  ------       --------------  -----  \n",
      " 0   PassengerId  418 non-null    int64  \n",
      " 1   Pclass       418 non-null    int64  \n",
      " 2   Name         418 non-null    object \n",
      " 3   Sex          418 non-null    object \n",
      " 4   Age          332 non-null    float64\n",
      " 5   SibSp        418 non-null    int64  \n",
      " 6   Parch        418 non-null    int64  \n",
      " 7   Ticket       418 non-null    object \n",
      " 8   Fare         417 non-null    float64\n",
      " 9   Cabin        91 non-null     object \n",
      " 10  Embarked     418 non-null    object \n",
      "dtypes: float64(2), int64(4), object(5)\n",
      "memory usage: 36.0+ KB\n"
     ]
    }
   ],
   "source": [
    "test_df.info()"
   ]
  },
  {
   "cell_type": "markdown",
   "id": "dc7a737f",
   "metadata": {},
   "source": [
    "### . Total Number of male & feamle in our dataset "
   ]
  },
  {
   "cell_type": "code",
   "execution_count": 220,
   "id": "c728c376",
   "metadata": {
    "scrolled": true
   },
   "outputs": [
    {
     "data": {
      "text/plain": [
       "Text(0.5, 1.0, 'How many Men and Women in train_df')"
      ]
     },
     "execution_count": 220,
     "metadata": {},
     "output_type": "execute_result"
    },
    {
     "data": {
      "image/png": "[encoded data removed]",
      "text/plain": [
       "<Figure size 432x288 with 1 Axes>"
      ]
     },
     "metadata": {
      "needs_background": "light"
     },
     "output_type": "display_data"
    }
   ],
   "source": [
    "sns.countplot(x='Sex',data=train_df).set_title('How many Men and Women in train_df')"
   ]
  },
  {
   "cell_type": "markdown",
   "id": "1a00fc18",
   "metadata": {},
   "source": [
    "### Total Number of male & feamle Survived\n"
   ]
  },
  {
   "cell_type": "code",
   "execution_count": 221,
   "id": "cc580f61",
   "metadata": {
    "scrolled": true
   },
   "outputs": [
    {
     "data": {
      "text/plain": [
       "<AxesSubplot:xlabel='Sex', ylabel='count'>"
      ]
     },
     "execution_count": 221,
     "metadata": {},
     "output_type": "execute_result"
    },
    {
     "data": {
      "image/png": "[encoded data removed]",
      "text/plain": [
       "<Figure size 432x288 with 1 Axes>"
      ]
     },
     "metadata": {
      "needs_background": "light"
     },
     "output_type": "display_data"
    }
   ],
   "source": [
    "sns.countplot(x='Sex',data=train_df,hue='Survived')"
   ]
  },
  {
   "cell_type": "markdown",
   "id": "2c688d18",
   "metadata": {},
   "source": [
    "### Check Survived Percentage   -  38 percent survived"
   ]
  },
  {
   "cell_type": "code",
   "execution_count": 222,
   "id": "25a7a5ce",
   "metadata": {},
   "outputs": [
    {
     "data": {
      "text/plain": [
       "0    61.616162\n",
       "1    38.383838\n",
       "Name: Survived, dtype: float64"
      ]
     },
     "execution_count": 222,
     "metadata": {},
     "output_type": "execute_result"
    }
   ],
   "source": [
    "train_df['Survived'].value_counts(dropna=False, normalize=True)*100"
   ]
  },
  {
   "cell_type": "code",
   "execution_count": 223,
   "id": "dfe54d71",
   "metadata": {},
   "outputs": [
    {
     "data": {
      "text/plain": [
       "<AxesSubplot:xlabel='Sex', ylabel='count'>"
      ]
     },
     "execution_count": 223,
     "metadata": {},
     "output_type": "execute_result"
    },
    {
     "data": {
      "image/png": "[encoded data removed]",
      "text/plain": [
       "<Figure size 432x288 with 1 Axes>"
      ]
     },
     "metadata": {
      "needs_background": "light"
     },
     "output_type": "display_data"
    }
   ],
   "source": [
    "sns.countplot(x='Sex',data=train_df,hue='Pclass',palette='plasma')"
   ]
  },
  {
   "cell_type": "code",
   "execution_count": 224,
   "id": "1263a0bb",
   "metadata": {
    "scrolled": true
   },
   "outputs": [
    {
     "data": {
      "text/plain": [
       "<AxesSubplot:xlabel='Sex', ylabel='count'>"
      ]
     },
     "execution_count": 224,
     "metadata": {},
     "output_type": "execute_result"
    },
    {
     "data": {
      "image/png": "[encoded data removed]",
      "text/plain": [
       "<Figure size 432x288 with 1 Axes>"
      ]
     },
     "metadata": {
      "needs_background": "light"
     },
     "output_type": "display_data"
    }
   ],
   "source": [
    "sns.countplot(x='Sex',data=test_df,hue='Pclass',palette='plasma')"
   ]
  },
  {
   "cell_type": "markdown",
   "id": "91dcfb23",
   "metadata": {},
   "source": [
    "### Preprocessing"
   ]
  },
  {
   "cell_type": "code",
   "execution_count": 225,
   "id": "5f9ec1d2",
   "metadata": {},
   "outputs": [],
   "source": [
    "train_df = train_df.drop([\"PassengerId\",\"Name\",\"Ticket\"], axis=1)"
   ]
  },
  {
   "cell_type": "code",
   "execution_count": 226,
   "id": "b91475f9",
   "metadata": {},
   "outputs": [
    {
     "data": {
      "text/plain": [
       "Survived      0\n",
       "Pclass        0\n",
       "Sex           0\n",
       "Age         177\n",
       "SibSp         0\n",
       "Parch         0\n",
       "Fare          0\n",
       "Cabin       687\n",
       "Embarked      2\n",
       "dtype: int64"
      ]
     },
     "execution_count": 226,
     "metadata": {},
     "output_type": "execute_result"
    }
   ],
   "source": [
    "train_df.isna().sum()"
   ]
  },
  {
   "cell_type": "markdown",
   "id": "9c728158",
   "metadata": {},
   "source": [
    "### We see that the features Cabin, Age and Embarked have missing values in train_df."
   ]
  },
  {
   "cell_type": "markdown",
   "id": "0ab15d04",
   "metadata": {},
   "source": [
    "### Let's Fill MISSING VALUES FOR Train Data.\n",
    "\n",
    "Cabin Featueres has more than 75% of missing data in both Test and train data so we are going to use get_dummies to fill these data."
   ]
  },
  {
   "cell_type": "code",
   "execution_count": 227,
   "id": "fa7b21f4",
   "metadata": {},
   "outputs": [
    {
     "name": "stdout",
     "output_type": "stream",
     "text": [
      "<class 'pandas.core.frame.DataFrame'>\n",
      "RangeIndex: 891 entries, 0 to 890\n",
      "Data columns (total 12 columns):\n",
      " #   Column      Non-Null Count  Dtype  \n",
      "---  ------      --------------  -----  \n",
      " 0   Survived    891 non-null    int64  \n",
      " 1   Pclass      891 non-null    int64  \n",
      " 2   Age         714 non-null    float64\n",
      " 3   SibSp       891 non-null    int64  \n",
      " 4   Parch       891 non-null    int64  \n",
      " 5   Fare        891 non-null    float64\n",
      " 6   Cabin       891 non-null    bool   \n",
      " 7   Sex_female  891 non-null    uint8  \n",
      " 8   Sex_male    891 non-null    uint8  \n",
      " 9   Embarked_C  891 non-null    uint8  \n",
      " 10  Embarked_Q  891 non-null    uint8  \n",
      " 11  Embarked_S  891 non-null    uint8  \n",
      "dtypes: bool(1), float64(2), int64(4), uint8(5)\n",
      "memory usage: 47.1 KB\n"
     ]
    }
   ],
   "source": [
    "train_df[\"Cabin\"] = train_df[\"Cabin\"].isna()\n",
    "train_df = pd.get_dummies(train_df)\n",
    "train_df.info()"
   ]
  },
  {
   "cell_type": "markdown",
   "id": "e3c9f079",
   "metadata": {},
   "source": [
    "### Since Age is a numeric variable, lets fill with random numbers computed based on mean"
   ]
  },
  {
   "cell_type": "code",
   "execution_count": 228,
   "id": "de54c5aa",
   "metadata": {},
   "outputs": [
    {
     "name": "stderr",
     "output_type": "stream",
     "text": [
      "C:\\Users\\MUTHUK~1\\AppData\\Local\\Temp/ipykernel_9324/1556003216.py:1: SettingWithCopyWarning: \n",
      "A value is trying to be set on a copy of a slice from a DataFrame\n",
      "\n",
      "See the caveats in the documentation: https://pandas.pydata.org/pandas-docs/stable/user_guide/indexing.html#returning-a-view-versus-a-copy\n",
      "  train_df[\"Age\"][train_df[\"Age\"].isna()] = train_df[\"Age\"].mean()\n"
     ]
    },
    {
     "data": {
      "text/plain": [
       "Survived      891\n",
       "Pclass        891\n",
       "Age           891\n",
       "SibSp         891\n",
       "Parch         891\n",
       "Fare          891\n",
       "Cabin         891\n",
       "Sex_female    891\n",
       "Sex_male      891\n",
       "Embarked_C    891\n",
       "Embarked_Q    891\n",
       "Embarked_S    891\n",
       "dtype: int64"
      ]
     },
     "execution_count": 228,
     "metadata": {},
     "output_type": "execute_result"
    }
   ],
   "source": [
    "train_df[\"Age\"][train_df[\"Age\"].isna()] = train_df[\"Age\"].mean()\n",
    "train_df.count()"
   ]
  },
  {
   "cell_type": "markdown",
   "id": "e6f298d4",
   "metadata": {},
   "source": [
    "### Let's Fill MISSING VALUES FOR Test Data.\n",
    "\n",
    "Since Age is a numeric variable, lets fill with random numbers computed based on mean."
   ]
  },
  {
   "cell_type": "code",
   "execution_count": 229,
   "id": "7070bf1b",
   "metadata": {},
   "outputs": [],
   "source": [
    "test_df['Age'].fillna(test_df['Age'].median(), inplace = True)"
   ]
  },
  {
   "cell_type": "code",
   "execution_count": 230,
   "id": "5d08c3a9",
   "metadata": {},
   "outputs": [
    {
     "name": "stdout",
     "output_type": "stream",
     "text": [
      "<class 'pandas.core.frame.DataFrame'>\n",
      "RangeIndex: 418 entries, 0 to 417\n",
      "Columns: 793 entries, PassengerId to Embarked_S\n",
      "dtypes: bool(1), float64(2), int64(4), uint8(786)\n",
      "memory usage: 341.0 KB\n"
     ]
    }
   ],
   "source": [
    "test_df[\"Cabin\"] = test_df[\"Cabin\"].isna()\n",
    "test_df = pd.get_dummies(test_df)\n",
    "test_df.info()"
   ]
  },
  {
   "cell_type": "code",
   "execution_count": 231,
   "id": "23d2d7f9",
   "metadata": {},
   "outputs": [
    {
     "data": {
      "image/png": "[encoded data removed]",
      "text/plain": [
       "<Figure size 720x720 with 2 Axes>"
      ]
     },
     "metadata": {
      "needs_background": "light"
     },
     "output_type": "display_data"
    }
   ],
   "source": [
    "sns.heatmap(train_df.corr(),annot=True,cmap='BrBG') #data.corr()-->correlation matrix\n",
    "fig=plt.gcf()\n",
    "fig.set_size_inches(10,10)\n",
    "plt.show()"
   ]
  },
  {
   "cell_type": "markdown",
   "id": "9cea2b27",
   "metadata": {},
   "source": [
    "###  Concetanating data both train and test"
   ]
  },
  {
   "cell_type": "code",
   "execution_count": 232,
   "id": "d903cfe4",
   "metadata": {},
   "outputs": [],
   "source": [
    "data =pd.concat([train_df,test_df])"
   ]
  },
  {
   "cell_type": "code",
   "execution_count": 233,
   "id": "5d7fc34a",
   "metadata": {},
   "outputs": [
    {
     "data": {
      "text/html": [
       "<div>\n",
       "<style scoped>\n",
       "    .dataframe tbody tr th:only-of-type {\n",
       "        vertical-align: middle;\n",
       "    }\n",
       "\n",
       "    .dataframe tbody tr th {\n",
       "        vertical-align: top;\n",
       "    }\n",
       "\n",
       "    .dataframe thead th {\n",
       "        text-align: right;\n",
       "    }\n",
       "</style>\n",
       "<table border=\"1\" class=\"dataframe\">\n",
       "  <thead>\n",
       "    <tr style=\"text-align: right;\">\n",
       "      <th></th>\n",
       "      <th>Survived</th>\n",
       "      <th>Pclass</th>\n",
       "      <th>Age</th>\n",
       "      <th>SibSp</th>\n",
       "      <th>Parch</th>\n",
       "      <th>Fare</th>\n",
       "      <th>Cabin</th>\n",
       "      <th>Sex_female</th>\n",
       "      <th>Sex_male</th>\n",
       "      <th>Embarked_C</th>\n",
       "      <th>...</th>\n",
       "      <th>Ticket_SOTON/OQ 392083</th>\n",
       "      <th>Ticket_STON/O 2. 3101268</th>\n",
       "      <th>Ticket_STON/O 2. 3101291</th>\n",
       "      <th>Ticket_STON/O2. 3101270</th>\n",
       "      <th>Ticket_STON/OQ. 369943</th>\n",
       "      <th>Ticket_W./C. 14260</th>\n",
       "      <th>Ticket_W./C. 14266</th>\n",
       "      <th>Ticket_W./C. 6607</th>\n",
       "      <th>Ticket_W./C. 6608</th>\n",
       "      <th>Ticket_W.E.P. 5734</th>\n",
       "    </tr>\n",
       "  </thead>\n",
       "  <tbody>\n",
       "    <tr>\n",
       "      <th>0</th>\n",
       "      <td>0.0</td>\n",
       "      <td>3</td>\n",
       "      <td>22.0</td>\n",
       "      <td>1</td>\n",
       "      <td>0</td>\n",
       "      <td>7.25</td>\n",
       "      <td>True</td>\n",
       "      <td>0</td>\n",
       "      <td>1</td>\n",
       "      <td>0</td>\n",
       "      <td>...</td>\n",
       "      <td>NaN</td>\n",
       "      <td>NaN</td>\n",
       "      <td>NaN</td>\n",
       "      <td>NaN</td>\n",
       "      <td>NaN</td>\n",
       "      <td>NaN</td>\n",
       "      <td>NaN</td>\n",
       "      <td>NaN</td>\n",
       "      <td>NaN</td>\n",
       "      <td>NaN</td>\n",
       "    </tr>\n",
       "  </tbody>\n",
       "</table>\n",
       "<p>1 rows × 794 columns</p>\n",
       "</div>"
      ],
      "text/plain": [
       "   Survived  Pclass   Age  SibSp  Parch  Fare  Cabin  Sex_female  Sex_male  \\\n",
       "0       0.0       3  22.0      1      0  7.25   True           0         1   \n",
       "\n",
       "   Embarked_C  ...  Ticket_SOTON/OQ 392083  Ticket_STON/O 2. 3101268  \\\n",
       "0           0  ...                     NaN                       NaN   \n",
       "\n",
       "   Ticket_STON/O 2. 3101291  Ticket_STON/O2. 3101270  Ticket_STON/OQ. 369943  \\\n",
       "0                       NaN                      NaN                     NaN   \n",
       "\n",
       "   Ticket_W./C. 14260  Ticket_W./C. 14266  Ticket_W./C. 6607  \\\n",
       "0                 NaN                 NaN                NaN   \n",
       "\n",
       "   Ticket_W./C. 6608  Ticket_W.E.P. 5734  \n",
       "0                NaN                 NaN  \n",
       "\n",
       "[1 rows x 794 columns]"
      ]
     },
     "metadata": {},
     "output_type": "display_data"
    },
    {
     "data": {
      "text/html": [
       "<div>\n",
       "<style scoped>\n",
       "    .dataframe tbody tr th:only-of-type {\n",
       "        vertical-align: middle;\n",
       "    }\n",
       "\n",
       "    .dataframe tbody tr th {\n",
       "        vertical-align: top;\n",
       "    }\n",
       "\n",
       "    .dataframe thead th {\n",
       "        text-align: right;\n",
       "    }\n",
       "</style>\n",
       "<table border=\"1\" class=\"dataframe\">\n",
       "  <thead>\n",
       "    <tr style=\"text-align: right;\">\n",
       "      <th></th>\n",
       "      <th>Survived</th>\n",
       "      <th>Pclass</th>\n",
       "      <th>Age</th>\n",
       "      <th>SibSp</th>\n",
       "      <th>Parch</th>\n",
       "      <th>Fare</th>\n",
       "      <th>Cabin</th>\n",
       "      <th>Sex_female</th>\n",
       "      <th>Sex_male</th>\n",
       "      <th>Embarked_C</th>\n",
       "      <th>...</th>\n",
       "      <th>Ticket_SOTON/OQ 392083</th>\n",
       "      <th>Ticket_STON/O 2. 3101268</th>\n",
       "      <th>Ticket_STON/O 2. 3101291</th>\n",
       "      <th>Ticket_STON/O2. 3101270</th>\n",
       "      <th>Ticket_STON/OQ. 369943</th>\n",
       "      <th>Ticket_W./C. 14260</th>\n",
       "      <th>Ticket_W./C. 14266</th>\n",
       "      <th>Ticket_W./C. 6607</th>\n",
       "      <th>Ticket_W./C. 6608</th>\n",
       "      <th>Ticket_W.E.P. 5734</th>\n",
       "    </tr>\n",
       "  </thead>\n",
       "  <tbody>\n",
       "    <tr>\n",
       "      <th>1308</th>\n",
       "      <td>NaN</td>\n",
       "      <td>3</td>\n",
       "      <td>27.0</td>\n",
       "      <td>1</td>\n",
       "      <td>1</td>\n",
       "      <td>22.3583</td>\n",
       "      <td>True</td>\n",
       "      <td>0</td>\n",
       "      <td>1</td>\n",
       "      <td>1</td>\n",
       "      <td>...</td>\n",
       "      <td>0.0</td>\n",
       "      <td>0.0</td>\n",
       "      <td>0.0</td>\n",
       "      <td>0.0</td>\n",
       "      <td>0.0</td>\n",
       "      <td>0.0</td>\n",
       "      <td>0.0</td>\n",
       "      <td>0.0</td>\n",
       "      <td>0.0</td>\n",
       "      <td>0.0</td>\n",
       "    </tr>\n",
       "  </tbody>\n",
       "</table>\n",
       "<p>1 rows × 794 columns</p>\n",
       "</div>"
      ],
      "text/plain": [
       "      Survived  Pclass   Age  SibSp  Parch     Fare  Cabin  Sex_female  \\\n",
       "1308       NaN       3  27.0      1      1  22.3583   True           0   \n",
       "\n",
       "      Sex_male  Embarked_C  ...  Ticket_SOTON/OQ 392083  \\\n",
       "1308         1           1  ...                     0.0   \n",
       "\n",
       "      Ticket_STON/O 2. 3101268  Ticket_STON/O 2. 3101291  \\\n",
       "1308                       0.0                       0.0   \n",
       "\n",
       "      Ticket_STON/O2. 3101270  Ticket_STON/OQ. 369943  Ticket_W./C. 14260  \\\n",
       "1308                      0.0                     0.0                 0.0   \n",
       "\n",
       "      Ticket_W./C. 14266  Ticket_W./C. 6607  Ticket_W./C. 6608  \\\n",
       "1308                 0.0                0.0                0.0   \n",
       "\n",
       "      Ticket_W.E.P. 5734  \n",
       "1308                 0.0  \n",
       "\n",
       "[1 rows x 794 columns]"
      ]
     },
     "metadata": {},
     "output_type": "display_data"
    }
   ],
   "source": [
    "data.reset_index(inplace=True, drop=True)\n",
    "display(data.head(1), data.tail(1))"
   ]
  },
  {
   "cell_type": "code",
   "execution_count": 234,
   "id": "ad0ef3a1",
   "metadata": {},
   "outputs": [],
   "source": [
    "preprc_train = data[data['Survived'].notna()]\n",
    "preprc_test = data[data['Survived'].isna()]"
   ]
  },
  {
   "cell_type": "code",
   "execution_count": 235,
   "id": "0a0299d7",
   "metadata": {},
   "outputs": [],
   "source": [
    "preprc_train.to_csv('preprocessed_titanic_train_data.csv',index=False)\n",
    "preprc_test.to_csv('preprocessed_titanic_test_data.csv',index=False)"
   ]
  },
  {
   "cell_type": "markdown",
   "id": "e69d57da",
   "metadata": {},
   "source": [
    "### Model_training"
   ]
  },
  {
   "cell_type": "code",
   "execution_count": 236,
   "id": "df859dc8",
   "metadata": {},
   "outputs": [],
   "source": [
    "pptrain = pd.read_csv('preprocessed_titanic_train_data.csv')"
   ]
  },
  {
   "cell_type": "code",
   "execution_count": 237,
   "id": "6d6894af",
   "metadata": {},
   "outputs": [],
   "source": [
    "x = pptrain.drop(\"Survived\",axis=1)\n",
    "y = pptrain[\"Survived\"]"
   ]
  },
  {
   "cell_type": "code",
   "execution_count": 238,
   "id": "2d7adeee",
   "metadata": {},
   "outputs": [],
   "source": [
    "train_X, test_X, train_y, test_y = train_test_split(x,y, test_size = 0.2,random_state = 10)"
   ]
  },
  {
   "cell_type": "code",
   "execution_count": 239,
   "id": "0964cbb3",
   "metadata": {},
   "outputs": [
    {
     "data": {
      "text/plain": [
       "((891, 11), (891,), (179, 11))"
      ]
     },
     "execution_count": 239,
     "metadata": {},
     "output_type": "execute_result"
    }
   ],
   "source": [
    "X_train.shape, y_train.shape, X_test.shape"
   ]
  },
  {
   "cell_type": "code",
   "execution_count": 240,
   "id": "471a4d23",
   "metadata": {},
   "outputs": [],
   "source": [
    "train_X = train_X.replace((np.inf, -np.inf, np.nan), 0).reset_index(drop=True)\n",
    "train_y = train_y.replace((np.inf, -np.inf, np.nan), 0).reset_index(drop=True)\n",
    "test_X = test_X.replace((np.inf, -np.inf, np.nan), 0).reset_index(drop=True)\n",
    "test_y = test_y.replace((np.inf, -np.inf, np.nan), 0).reset_index(drop=True)"
   ]
  },
  {
   "cell_type": "code",
   "execution_count": 241,
   "id": "afd3ffa9",
   "metadata": {},
   "outputs": [],
   "source": [
    "model = LogisticRegression(max_iter=500)"
   ]
  },
  {
   "cell_type": "code",
   "execution_count": 242,
   "id": "0cb416fb",
   "metadata": {
    "scrolled": true
   },
   "outputs": [
    {
     "data": {
      "text/plain": [
       "LogisticRegression(max_iter=500)"
      ]
     },
     "execution_count": 242,
     "metadata": {},
     "output_type": "execute_result"
    }
   ],
   "source": [
    "model.fit(train_X,train_y)"
   ]
  },
  {
   "cell_type": "code",
   "execution_count": 243,
   "id": "fbbc39b2",
   "metadata": {},
   "outputs": [
    {
     "name": "stdout",
     "output_type": "stream",
     "text": [
      "Train accuracy\n",
      "accuracy score 0.7935393258426966\n",
      "f1 score 0.7282809611829945\n",
      "confusion matrix\n",
      " [[368  64]\n",
      " [ 83 197]]\n"
     ]
    }
   ],
   "source": [
    "y_pred = model.predict(train_X)\n",
    "print('Train accuracy')\n",
    "print('accuracy score',accuracy_score(train_y,y_pred))\n",
    "print('f1 score',f1_score(train_y,y_pred))\n",
    "print('confusion matrix\\n',confusion_matrix(train_y,y_pred))"
   ]
  },
  {
   "cell_type": "code",
   "execution_count": 244,
   "id": "bd950970",
   "metadata": {},
   "outputs": [
    {
     "name": "stdout",
     "output_type": "stream",
     "text": [
      "Test accuracy\n",
      "accuracy score 0.8212290502793296\n",
      "f1 score 0.7460317460317459\n",
      "confusion matrix\n",
      " [[100  17]\n",
      " [ 15  47]]\n"
     ]
    }
   ],
   "source": [
    "y_test_pred = model.predict(test_X)\n",
    "print('Test accuracy')\n",
    "print('accuracy score',accuracy_score(test_y,y_test_pred))\n",
    "print('f1 score',f1_score(test_y,y_test_pred))\n",
    "print('confusion matrix\\n',confusion_matrix(test_y,y_test_pred))"
   ]
  },
  {
   "cell_type": "code",
   "execution_count": 245,
   "id": "547f13f3",
   "metadata": {},
   "outputs": [],
   "source": [
    "pptest_org = pd.read_csv('preprocessed_titanic_test_data.csv')"
   ]
  },
  {
   "cell_type": "code",
   "execution_count": 246,
   "id": "b9cb4c37",
   "metadata": {},
   "outputs": [],
   "source": [
    "pptest_X = pptest_org.drop(\"Survived\",axis=1)\n",
    "pptest_X = pptest_X.replace((np.inf, -np.inf, np.nan), 0).reset_index(drop=True)\n",
    "y_unpred = model.predict(pptest_X)"
   ]
  },
  {
   "cell_type": "code",
   "execution_count": 247,
   "id": "64b3fe9e",
   "metadata": {},
   "outputs": [],
   "source": [
    "submission['Survived']=y_unpred"
   ]
  },
  {
   "cell_type": "code",
   "execution_count": 248,
   "id": "c84d13ca",
   "metadata": {},
   "outputs": [],
   "source": [
    "submission['Survived']=submission['Survived'].astype(int)\n",
    "submission.to_csv('titanic_submission_logreg.csv',index=False)"
   ]
  },
  {
   "cell_type": "code",
   "execution_count": 249,
   "id": "35f9ab24",
   "metadata": {},
   "outputs": [
    {
     "data": {
      "text/plain": [
       "(array([0, 1]), array([256, 162], dtype=int64))"
      ]
     },
     "execution_count": 249,
     "metadata": {},
     "output_type": "execute_result"
    }
   ],
   "source": [
    "np.unique(submission['Survived'], return_counts=True)"
   ]
  }
 ],
 "metadata": {
  "kernelspec": {
   "display_name": "Python 3 (ipykernel)",
   "language": "python",
   "name": "python3"
  },
  "language_info": {
   "codemirror_mode": {
    "name": "ipython",
    "version": 3
   },
   "file_extension": ".py",
   "mimetype": "text/x-python",
   "name": "python",
   "nbconvert_exporter": "python",
   "pygments_lexer": "ipython3",
   "version": "3.9.7"
  }
 },
 "nbformat": 4,
 "nbformat_minor": 5
}
